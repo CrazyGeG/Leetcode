{
 "cells": [
  {
   "cell_type": "markdown",
   "id": "9b5e2474",
   "metadata": {},
   "source": [
    "# Two sum Problem"
   ]
  },
  {
   "cell_type": "code",
   "execution_count": null,
   "id": "382f34a4",
   "metadata": {},
   "outputs": [],
   "source": [
    " def twoSum(nums,target):\n",
    "    result =[]\n",
    "    for i in range(len(nums)): \n",
    "        for j in range(i+1,len(nums)):\n",
    "            if nums[i] + nums[j] == target:\n",
    "                result.extend((i,j))\n",
    "                    \n",
    "            \n",
    "    return result"
   ]
  },
  {
   "cell_type": "code",
   "execution_count": null,
   "id": "d6dee06c",
   "metadata": {},
   "outputs": [],
   "source": [
    "twoSum([3,3],6)"
   ]
  },
  {
   "cell_type": "markdown",
   "id": "e6b019fa",
   "metadata": {},
   "source": [
    "# Palindrome Problem\n",
    "\n",
    "Check if the string == reverse(string)"
   ]
  },
  {
   "cell_type": "code",
   "execution_count": null,
   "id": "2817c353",
   "metadata": {},
   "outputs": [],
   "source": [
    "def Palindrome(x):\n",
    "    \n",
    "    converted_x = list(str(x))\n",
    "    converted_x2 = converted_x[::-1]\n",
    "    \n",
    "    return converted_x == converted_x2\n",
    "        \n",
    "        \n",
    "    \n",
    "     \n",
    "        "
   ]
  },
  {
   "cell_type": "code",
   "execution_count": null,
   "id": "b4a092d7",
   "metadata": {},
   "outputs": [],
   "source": [
    "Palindrome(-121)"
   ]
  },
  {
   "cell_type": "markdown",
   "id": "ed0f2438",
   "metadata": {},
   "source": [
    "# Roman symbol to Interger Problem\n",
    "# Use two dictionary\n",
    "1. check 2-letter first then remove it\n",
    "2. check the rest of string"
   ]
  },
  {
   "cell_type": "code",
   "execution_count": null,
   "id": "cf5bcc6f",
   "metadata": {},
   "outputs": [],
   "source": [
    "def romanToInt(s):\n",
    "    \n",
    "    result = []\n",
    "    temp= []\n",
    "    Dict2 = {'IV':4,'IX':9,'XL':40,'XC':90,'CD':400,'CM':900}\n",
    "    Dict1 = {'I':1,'V':5,'X':10,'L':50,'C':100,'D':500,'M':1000}\n",
    "    s_list = [char for char in s]\n",
    "    i= 0\n",
    "    inttodel = []\n",
    "    while i < len(s_list):\n",
    "        temp = \"\".join([s_list[i],s_list[i+1]])\n",
    "        if temp in Dict2:\n",
    "            result.append(Dict2.get(temp))\n",
    "            inttodel.extend([i,i+1])\n",
    "            i = i + 2\n",
    "            \n",
    "        else:\n",
    "            \n",
    "            i = i+1\n",
    "            \n",
    "            \n",
    "    unwanted = inttodel\n",
    " \n",
    "    for ele in sorted(unwanted, reverse = True):\n",
    "        del s_list[ele]\n",
    "          \n",
    "    for j in range(len(s_list)) :\n",
    "        result.append(Dict1.get(s_list[j]))\n",
    "            \n",
    "    return sum(result)\n",
    "\n"
   ]
  },
  {
   "cell_type": "code",
   "execution_count": null,
   "id": "29b60977",
   "metadata": {},
   "outputs": [],
   "source": [
    "s = \"MCMXCIV\"\n",
    "list(s)\n"
   ]
  },
  {
   "cell_type": "markdown",
   "id": "d4c9b1ce",
   "metadata": {},
   "source": [
    "# Longest Common Prefix Problem\n",
    "\n",
    "# Algorithm\n",
    "1. decalre an empty list\n",
    "2. if only one word in string, then return string\n",
    "3. get the shortest word in the string and update the string without the shortest word\n",
    "4. use the shortest word to compare with the new string(use two for loop)"
   ]
  },
  {
   "cell_type": "code",
   "execution_count": null,
   "id": "c6542c21",
   "metadata": {},
   "outputs": [],
   "source": [
    "def longestCommonPrefix(strs):\n",
    "    result = []\n",
    "   \n",
    "    \n",
    "    if len(strs) == 1:\n",
    "        return (\"\".join(strs))\n",
    "    \n",
    "    #get the shortest element in string list \n",
    "    word_1=min(strs, key=len)\n",
    "    \n",
    "    #update the string minus the shortest element\n",
    "    strs.remove(word_1)\n",
    "    word_1 = list(word_1)\n",
    "    loop_must_break = False\n",
    "    for  j in range(0,len(word_1)):\n",
    "            count = 1\n",
    "            i = 0\n",
    "            for i in range(0,len(strs)):\n",
    "                word = list(strs[i])\n",
    "                if word[j] == word_1[j]:\n",
    "                    count = count +1\n",
    "                    i = i+1\n",
    "                else:\n",
    "                    loop_must_break = True\n",
    "                    break\n",
    "            if loop_must_break: break\n",
    "            else:\n",
    "                if count == len(strs)+1:\n",
    "                    result.append(word_1[j])\n",
    "            \n",
    "            \n",
    "    return \"\".join(result)"
   ]
  },
  {
   "cell_type": "code",
   "execution_count": null,
   "id": "b2618f4f",
   "metadata": {},
   "outputs": [],
   "source": [
    "strs = [\"cir\",\"car\"]\n",
    "\n",
    "print(longestCommonPrefix(strs))"
   ]
  },
  {
   "cell_type": "markdown",
   "id": "f7513384",
   "metadata": {},
   "source": [
    "# Valid parentheses problem\n",
    "all the parentheses are matched i.e., every opening parenthesis has a corresponding closing parenthesis;\n",
    "<br>\n",
    "the matched parentheses are in the correct order i.e., an opening parenthesis should come before the closing parenthesis.\n",
    "# STACK(LIFO)\n",
    "\n",
    "# Algorithm\n",
    "\n",
    "1. declare an empty stack \n",
    "<br>\n",
    "2. push an opening parenthesis to stack\n",
    "<br>\n",
    "3. In case of a starting closing parenthesis, return False by check the emptyness of the stack\n",
    "<br>\n",
    "4. if the new incoming parenthesis from strings is a closing parenthesis, then check if that pairs with the top of the stack, if pair, then pop the top stack. Else return False, since closing parenthesis is before opening parenthesis.\n",
    "<br>\n",
    "5. after iterating the string, check if the stack is empty, return True, else return False"
   ]
  },
  {
   "cell_type": "code",
   "execution_count": 8,
   "id": "a1f64150",
   "metadata": {},
   "outputs": [],
   "source": [
    "\n",
    "\n",
    "\n",
    "def isValid(strings):\n",
    "    stack = []\n",
    "    #iterate the entire string\n",
    "    for i in strings:\n",
    "        if i == '(' or i == '[' or i == '{':\n",
    "            stack.append(i)\n",
    "        else:\n",
    "            \n",
    "            if not stack:\n",
    "                Valid = False\n",
    "                return Valid\n",
    "                \n",
    "            else:\n",
    "                top = stack[-1] \n",
    "                if top == '(' and i == ')' or top == '[' and i == ']' or \\\n",
    "                   top == '{' and i == '}':\n",
    "                    stack.pop()\n",
    "                else:\n",
    "                    return False\n",
    "                    \n",
    "                \n",
    "    #check if the stack is empty, if it's empty, then it is valid\n",
    "    if  not stack:\n",
    "        return True\n",
    "    else:\n",
    "        return False\n",
    "   \n",
    "    \n",
    "                    \n",
    "            "
   ]
  },
  {
   "cell_type": "code",
   "execution_count": 9,
   "id": "0c44c2f1",
   "metadata": {},
   "outputs": [
    {
     "name": "stdout",
     "output_type": "stream",
     "text": [
      "False\n"
     ]
    }
   ],
   "source": [
    "strings = \"]\"\n",
    "\n",
    "\n",
    "print(isValid(strings))"
   ]
  },
  {
   "cell_type": "markdown",
   "id": "942aa072",
   "metadata": {},
   "source": [
    "# Merge Two Sorted Lists Problem(array implementation)\n",
    "1. check the length of L1 and L2, get n= min(len(L1,L2)\n",
    "2. assign two pointers (two finger method), compare the elements where pointers point to and move the smaller one to the new list, the move the one of the pointer to next element\n",
    "3. after reach n iteration, check if any list is empty\n",
    "4. if not, copy the rest elements to the new list"
   ]
  },
  {
   "cell_type": "code",
   "execution_count": 33,
   "id": "4cb597f6",
   "metadata": {},
   "outputs": [],
   "source": [
    "def mergeTwoLists(list1, list2):\n",
    "    arr = []\n",
    "    n = min(len(list1),len(list2))\n",
    "    i=j=k=0\n",
    "    if n == 0:\n",
    "        arr = list1+list2\n",
    "    else:\n",
    "        while i < n and j < n  :\n",
    "            if list1[i] > list2[j]:\n",
    "                arr.append(list2[j])\n",
    "                j = j+1\n",
    "                k = k+1\n",
    "            else:\n",
    "                arr.append(list1[i])\n",
    "                i = i+1\n",
    "                k = k+1\n",
    "        \n",
    "        if list1[i+1:]:\n",
    "            arr.extend(list1[i+1:])\n",
    "        else:\n",
    "            if list2[j:]:\n",
    "                arr.extend(list2[j:]) \n",
    "    \n",
    "    return arr\n",
    "        \n",
    "            "
   ]
  },
  {
   "cell_type": "code",
   "execution_count": 35,
   "id": "319ebf00",
   "metadata": {},
   "outputs": [
    {
     "data": {
      "text/plain": [
       "[0]"
      ]
     },
     "execution_count": 35,
     "metadata": {},
     "output_type": "execute_result"
    }
   ],
   "source": [
    "list1 = [] \n",
    "list2 = [0]\n",
    "mergeTwoLists(list1, list2)"
   ]
  },
  {
   "cell_type": "code",
   "execution_count": 37,
   "id": "859209db",
   "metadata": {},
   "outputs": [],
   "source": [
    "# Definition for singly-linked list.\n",
    "class ListNode:\n",
    "     def __init__(self, val=0, next=None):\n",
    "        self.val = val\n",
    "        self.next = next\n",
    "class Solution:\n",
    "    def mergeTwoLists(list1,list2):\n",
    "        \n",
    "        #check if any of the lists is none\n",
    "        if list1 is None:\n",
    "            return list2\n",
    "        if list2 is None:\n",
    "            return list1\n",
    "        else:\n",
    "            #compare the head of two lists\n",
    "            if list1.val < list2.val:\n",
    "                temp = head =   ListNode(list1.val)\n",
    "                list1 = list1.next\n",
    "            else: \n",
    "                temp = head =   ListNode(list2.val)\n",
    "                list2 = list2.next\n",
    "            #loop until one list becomes none\n",
    "            while list1 is not None and list2 is not None:\n",
    "                if list1.val < list2.val:\n",
    "                    temp.next = ListNode(list1.val)\n",
    "                    list1 = list1.next\n",
    "                else:\n",
    "                    temp.next = ListNode(list2.val)\n",
    "                    list2 = list2.next\n",
    "                temp = temp.next\n",
    "            #check if any elemets left\n",
    "            while list1:\n",
    "                temp.next = ListNode(list1.val)\n",
    "                list1 = list1.next\n",
    "                temp = temp.next\n",
    "            while list2:\n",
    "                temp.next = ListNode(list2.val)\n",
    "                list2 = list2.next\n",
    "                temp = temp.next\n",
    "        return head"
   ]
  },
  {
   "cell_type": "code",
   "execution_count": null,
   "id": "705a2136",
   "metadata": {},
   "outputs": [],
   "source": []
  }
 ],
 "metadata": {
  "kernelspec": {
   "display_name": "Python 3",
   "language": "python",
   "name": "python3"
  },
  "language_info": {
   "codemirror_mode": {
    "name": "ipython",
    "version": 3
   },
   "file_extension": ".py",
   "mimetype": "text/x-python",
   "name": "python",
   "nbconvert_exporter": "python",
   "pygments_lexer": "ipython3",
   "version": "3.8.8"
  }
 },
 "nbformat": 4,
 "nbformat_minor": 5
}
